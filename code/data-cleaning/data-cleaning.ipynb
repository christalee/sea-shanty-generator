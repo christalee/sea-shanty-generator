{
 "cells": [
  {
   "cell_type": "code",
   "execution_count": 1,
   "metadata": {},
   "outputs": [],
   "source": [
    "# Imports\n",
    "import pandas as pd\n",
    "import numpy as np\n",
    "import re\n",
    "import random\n",
    "\n",
    "# Options\n",
    "random_seed=42"
   ]
  },
  {
   "cell_type": "code",
   "execution_count": 2,
   "metadata": {},
   "outputs": [],
   "source": [
    "# Creating dataframes from each scrapers csv output\n",
    "# /Users/jacobellena/Google-Drive/dsi/submissions/capstone/data/contemplator_songs.csv\n",
    "df1 = pd.read_csv('../../data/contemplator_songs.csv')\n",
    "df2 = pd.read_csv('../../data/karaoke_lyrics_songs.csv')\n",
    "df3 = pd.read_csv('../../data/sailor_songs_songs.csv')\n",
    "df4 = pd.read_csv('../../data/shanty_net_songs.csv')\n",
    "df5 = pd.read_csv('../../data/traditional_music_songs.csv')"
   ]
  },
  {
   "cell_type": "code",
   "execution_count": 3,
   "metadata": {},
   "outputs": [
    {
     "data": {
      "text/html": [
       "<div>\n",
       "<style scoped>\n",
       "    .dataframe tbody tr th:only-of-type {\n",
       "        vertical-align: middle;\n",
       "    }\n",
       "\n",
       "    .dataframe tbody tr th {\n",
       "        vertical-align: top;\n",
       "    }\n",
       "\n",
       "    .dataframe thead th {\n",
       "        text-align: right;\n",
       "    }\n",
       "</style>\n",
       "<table border=\"1\" class=\"dataframe\">\n",
       "  <thead>\n",
       "    <tr style=\"text-align: right;\">\n",
       "      <th></th>\n",
       "      <th>Unnamed: 0</th>\n",
       "      <th>title</th>\n",
       "      <th>lyrics</th>\n",
       "    </tr>\n",
       "  </thead>\n",
       "  <tbody>\n",
       "    <tr>\n",
       "      <th>0</th>\n",
       "      <td>0</td>\n",
       "      <td>A Hundred Years Ago</td>\n",
       "      <td>A hundred years is a very long time,\\r\\nHo, ye...</td>\n",
       "    </tr>\n",
       "    <tr>\n",
       "      <th>1</th>\n",
       "      <td>1</td>\n",
       "      <td>Aweigh, Santy Ano</td>\n",
       "      <td>From Boston Town we're bound away,\\r\\nHeave aw...</td>\n",
       "    </tr>\n",
       "    <tr>\n",
       "      <th>2</th>\n",
       "      <td>2</td>\n",
       "      <td>The Black Ball Line</td>\n",
       "      <td>In the Black Ball Line I serv'd my time\\r\\nHur...</td>\n",
       "    </tr>\n",
       "    <tr>\n",
       "      <th>3</th>\n",
       "      <td>3</td>\n",
       "      <td>Blow the Man Down</td>\n",
       "      <td>Come all ye young fellows that follow the sea,...</td>\n",
       "    </tr>\n",
       "    <tr>\n",
       "      <th>4</th>\n",
       "      <td>4</td>\n",
       "      <td>Blow Boys, Blow</td>\n",
       "      <td>A Yankee ship came down the river\\r\\nBlow, boy...</td>\n",
       "    </tr>\n",
       "  </tbody>\n",
       "</table>\n",
       "</div>"
      ],
      "text/plain": [
       "   Unnamed: 0                title  \\\n",
       "0           0  A Hundred Years Ago   \n",
       "1           1    Aweigh, Santy Ano   \n",
       "2           2  The Black Ball Line   \n",
       "3           3    Blow the Man Down   \n",
       "4           4      Blow Boys, Blow   \n",
       "\n",
       "                                              lyrics  \n",
       "0  A hundred years is a very long time,\\r\\nHo, ye...  \n",
       "1  From Boston Town we're bound away,\\r\\nHeave aw...  \n",
       "2  In the Black Ball Line I serv'd my time\\r\\nHur...  \n",
       "3  Come all ye young fellows that follow the sea,...  \n",
       "4  A Yankee ship came down the river\\r\\nBlow, boy...  "
      ]
     },
     "execution_count": 3,
     "metadata": {},
     "output_type": "execute_result"
    }
   ],
   "source": [
    "# Creating master dataframe\n",
    "dataframes = [df1, df2, df3, df4, df5]\n",
    "\n",
    "shanties = pd.concat(dataframes, axis=0)\n",
    "shanties.head()"
   ]
  },
  {
   "cell_type": "code",
   "execution_count": 4,
   "metadata": {},
   "outputs": [
    {
     "data": {
      "text/plain": [
       "(846, 3)"
      ]
     },
     "execution_count": 4,
     "metadata": {},
     "output_type": "execute_result"
    }
   ],
   "source": [
    "# Checking shape\n",
    "shanties.shape"
   ]
  },
  {
   "cell_type": "code",
   "execution_count": 5,
   "metadata": {},
   "outputs": [
    {
     "data": {
      "text/plain": [
       "Unnamed: 0    0\n",
       "title         0\n",
       "lyrics        6\n",
       "dtype: int64"
      ]
     },
     "execution_count": 5,
     "metadata": {},
     "output_type": "execute_result"
    }
   ],
   "source": [
    "# Some lyrics pages were empty so checking for nulls\n",
    "shanties.isnull().sum()"
   ]
  },
  {
   "cell_type": "code",
   "execution_count": 6,
   "metadata": {},
   "outputs": [
    {
     "data": {
      "text/plain": [
       "(840, 3)"
      ]
     },
     "execution_count": 6,
     "metadata": {},
     "output_type": "execute_result"
    }
   ],
   "source": [
    "# Dropping nulls\n",
    "shanties.dropna(inplace=True)\n",
    "shanties.shape"
   ]
  },
  {
   "cell_type": "code",
   "execution_count": 7,
   "metadata": {},
   "outputs": [
    {
     "data": {
      "text/plain": [
       "[253, 215, 545, 838, 211, 184, 630, 701, 739, 788]"
      ]
     },
     "execution_count": 7,
     "metadata": {},
     "output_type": "execute_result"
    }
   ],
   "source": [
    "# Cleaning index\n",
    "# Duplicate songs will be dropped by name. The first duplicated song will be dropped\n",
    "# In order to limit bias the dataframe will be reindexed with a random number\n",
    "\n",
    "# Creating a random list \n",
    "random_range = list(range(shanties.shape[0]))\n",
    "random.shuffle(random_range)\n",
    "random_range[:10]"
   ]
  },
  {
   "cell_type": "code",
   "execution_count": 8,
   "metadata": {},
   "outputs": [],
   "source": [
    "# Creating column with random list and setting it to be the index\n",
    "shanties['rand'] = random_range\n",
    "shanties.set_index('rand', inplace=True)"
   ]
  },
  {
   "cell_type": "code",
   "execution_count": 9,
   "metadata": {},
   "outputs": [],
   "source": [
    "# Reordering index\n",
    "shanties.sort_index(inplace=True)\n",
    "\n",
    "# Setting Index to title and dropping other columns\n",
    "# shanties.set_index('title', inplace=True)\n",
    "shanties.drop(columns=['Unnamed: 0'], axis=0, inplace=True)"
   ]
  },
  {
   "cell_type": "code",
   "execution_count": 10,
   "metadata": {},
   "outputs": [],
   "source": [
    "# Removing all punctuation and special characters from both titles and lyrics\n",
    "\n",
    "# Function to remomve all but letters and spaces and lowercase all remaining characters\n",
    "def formatter(string):\n",
    "    string = re.sub('[^A-Za-z ]', ' ', string)\n",
    "    string = re.sub('\\s+', ' ', string).strip().lower()\n",
    "    return string"
   ]
  },
  {
   "cell_type": "code",
   "execution_count": 11,
   "metadata": {},
   "outputs": [
    {
     "data": {
      "text/html": [
       "<div>\n",
       "<style scoped>\n",
       "    .dataframe tbody tr th:only-of-type {\n",
       "        vertical-align: middle;\n",
       "    }\n",
       "\n",
       "    .dataframe tbody tr th {\n",
       "        vertical-align: top;\n",
       "    }\n",
       "\n",
       "    .dataframe thead th {\n",
       "        text-align: right;\n",
       "    }\n",
       "</style>\n",
       "<table border=\"1\" class=\"dataframe\">\n",
       "  <thead>\n",
       "    <tr style=\"text-align: right;\">\n",
       "      <th></th>\n",
       "      <th>title</th>\n",
       "      <th>lyrics</th>\n",
       "    </tr>\n",
       "    <tr>\n",
       "      <th>rand</th>\n",
       "      <th></th>\n",
       "      <th></th>\n",
       "    </tr>\n",
       "  </thead>\n",
       "  <tbody>\n",
       "    <tr>\n",
       "      <th>0</th>\n",
       "      <td>les filles de la rochelle</td>\n",
       "      <td>ah la feuille s envole s envole ah la feuille ...</td>\n",
       "    </tr>\n",
       "    <tr>\n",
       "      <th>1</th>\n",
       "      <td>auckland to the bluff</td>\n",
       "      <td>i left the city when just a lad times were har...</td>\n",
       "    </tr>\n",
       "    <tr>\n",
       "      <th>2</th>\n",
       "      <td>the cumberland and the merrimack</td>\n",
       "      <td>come all my jolly seamen likewise you landsmen...</td>\n",
       "    </tr>\n",
       "    <tr>\n",
       "      <th>3</th>\n",
       "      <td>maid of amsterdam a rovin</td>\n",
       "      <td>in amsterdam i met a maidmark well what i do s...</td>\n",
       "    </tr>\n",
       "    <tr>\n",
       "      <th>4</th>\n",
       "      <td>the sailor s loves</td>\n",
       "      <td>the maiden oh the maiden oh the sailor loves t...</td>\n",
       "    </tr>\n",
       "  </tbody>\n",
       "</table>\n",
       "</div>"
      ],
      "text/plain": [
       "                                 title  \\\n",
       "rand                                     \n",
       "0            les filles de la rochelle   \n",
       "1                auckland to the bluff   \n",
       "2     the cumberland and the merrimack   \n",
       "3            maid of amsterdam a rovin   \n",
       "4                   the sailor s loves   \n",
       "\n",
       "                                                 lyrics  \n",
       "rand                                                     \n",
       "0     ah la feuille s envole s envole ah la feuille ...  \n",
       "1     i left the city when just a lad times were har...  \n",
       "2     come all my jolly seamen likewise you landsmen...  \n",
       "3     in amsterdam i met a maidmark well what i do s...  \n",
       "4     the maiden oh the maiden oh the sailor loves t...  "
      ]
     },
     "execution_count": 11,
     "metadata": {},
     "output_type": "execute_result"
    }
   ],
   "source": [
    "# Applying formatter to titles and lyrics\n",
    "shanties['title'] = [formatter(string) for string in shanties['title']]\n",
    "shanties['lyrics'] = [formatter(string) for string in shanties['lyrics']]\n",
    "shanties.head()"
   ]
  },
  {
   "cell_type": "code",
   "execution_count": 12,
   "metadata": {},
   "outputs": [
    {
     "name": "stdout",
     "output_type": "stream",
     "text": [
      "Rows before dropping duplicates: 840\n",
      "Rows after dropping duplicates:  605\n"
     ]
    }
   ],
   "source": [
    "# Dropping duplicate songs by title\n",
    "print(f'Rows before dropping duplicates: {shanties.shape[0]}')\n",
    "shanties.drop_duplicates(subset='title', inplace=True)\n",
    "print(f'Rows after dropping duplicates:  {shanties.shape[0]}')"
   ]
  },
  {
   "cell_type": "code",
   "execution_count": 13,
   "metadata": {},
   "outputs": [
    {
     "data": {
      "text/plain": [
       "(605, 2)"
      ]
     },
     "execution_count": 13,
     "metadata": {},
     "output_type": "execute_result"
    }
   ],
   "source": [
    "# Resetting Index\n",
    "shanties.reset_index(inplace=True)\n",
    "shanties.drop(columns='rand', inplace=True)\n",
    "shanties.shape"
   ]
  },
  {
   "cell_type": "code",
   "execution_count": 14,
   "metadata": {},
   "outputs": [
    {
     "data": {
      "text/plain": [
       "(602, 2)"
      ]
     },
     "execution_count": 14,
     "metadata": {},
     "output_type": "execute_result"
    }
   ],
   "source": [
    "# Some song lyrics pages only had a parts of a song or nothing.\n",
    "# Searing for very shorty lyrics and dropping them\n",
    "\n",
    "shanties.drop(shanties.loc[shanties['lyrics'].str.len() <= 50].index, axis=0, inplace=True)\n",
    "shanties.shape"
   ]
  },
  {
   "cell_type": "code",
   "execution_count": 15,
   "metadata": {},
   "outputs": [],
   "source": [
    "# Exporting to csv\n",
    "shanties.to_csv('../../data/shanties_df.csv')"
   ]
  },
  {
   "cell_type": "code",
   "execution_count": 16,
   "metadata": {},
   "outputs": [],
   "source": [
    "# Converting all lyrics into one large text corpus\n",
    "with open('../../data/shanties_all.txt', 'w') as f:\n",
    "    f.write(' '.join(shanties['lyrics'].tolist()))"
   ]
  }
 ],
 "metadata": {
  "kernelspec": {
   "display_name": "Python 3",
   "language": "python",
   "name": "python3"
  },
  "language_info": {
   "codemirror_mode": {
    "name": "ipython",
    "version": 3
   },
   "file_extension": ".py",
   "mimetype": "text/x-python",
   "name": "python",
   "nbconvert_exporter": "python",
   "pygments_lexer": "ipython3",
   "version": "3.7.6"
  }
 },
 "nbformat": 4,
 "nbformat_minor": 4
}
