{
 "cells": [
  {
   "cell_type": "markdown",
   "metadata": {},
   "source": [
    "# Lyrics Generation Test\n",
    "Here will test the effeciacy of our models. To see if the network learns to create more novel lyrics\n",
    "\n",
    "Each model will be fed a seed line of text to base 100 characters of prediction on.\n",
    "\n",
    "To judge the progress of the model over epoch we will test the 01, 05, 10, 15, and 20 epoch weights."
   ]
  },
  {
   "cell_type": "code",
   "execution_count": 1,
   "metadata": {},
   "outputs": [
    {
     "name": "stderr",
     "output_type": "stream",
     "text": [
      "Using TensorFlow backend.\n"
     ]
    }
   ],
   "source": [
    "# Imports\n",
    "import numpy as np\n",
    "import sys\n",
    "import os\n",
    "import random\n",
    "from collections import OrderedDict\n",
    "\n",
    "from keras.models import load_model"
   ]
  },
  {
   "cell_type": "markdown",
   "metadata": {},
   "source": [
    "## Model Creation\n",
    "For each sequence length a model is constructed for each epoch"
   ]
  },
  {
   "cell_type": "code",
   "execution_count": 2,
   "metadata": {},
   "outputs": [],
   "source": [
    "# Function to iterate through a directory of model weights\n",
    "def model_fabricator(char, model_dict):\n",
    "    # Creating a list of all weights to create models from\n",
    "    # Sorting list for easier lyric comparision based on model weight\n",
    "    for weight in sorted(os.listdir(path=f'../model-building/model-weights/{char}-char-model-weights')):\n",
    "        temp_model = load_model(f'../model-building/models/{char}-char-seq-shanty-writer.h5')\n",
    "        temp_model.load_weights(f'../model-building/model-weights/{char}-char-model-weights/{weight}')\n",
    "        # Adding model to models_char dict\n",
    "        # Key is epoch number found in weight string\n",
    "        model_dict[int(weight[-14:-12])] = temp_model\n",
    "    return model_dict"
   ]
  },
  {
   "cell_type": "code",
   "execution_count": 3,
   "metadata": {},
   "outputs": [],
   "source": [
    "# Creating empty dicts for each character sequence length\n",
    "models_25  = OrderedDict()\n",
    "models_50  = OrderedDict()\n",
    "models_100 = OrderedDict()"
   ]
  },
  {
   "cell_type": "code",
   "execution_count": 4,
   "metadata": {},
   "outputs": [],
   "source": [
    "# Populating each models list\n",
    "model_fabricator(25, models_25)\n",
    "model_fabricator(50, models_50)\n",
    "model_fabricator(100, models_100);"
   ]
  },
  {
   "cell_type": "markdown",
   "metadata": {},
   "source": [
    "## Corpus Data and Dictionaries\n",
    "In order to convert the outputs from the model we will need translation dictionaries\n",
    "\n",
    "Loading in the lyrics corpus will let us create these dictionaries"
   ]
  },
  {
   "cell_type": "code",
   "execution_count": 5,
   "metadata": {
    "colab": {},
    "colab_type": "code",
    "id": "rYaoX1N8ALn3",
    "outputId": "a1326695-698e-4c44-b284-99c13663ebd2"
   },
   "outputs": [],
   "source": [
    "# Loading in Shanties lyrics corpus\n",
    "shanties = open('../../../data/shanties_all.txt', encoding='utf-8').read()\n",
    "\n",
    "# Creating a list of all unique characters and variable of total number of uniques\n",
    "chars_list = sorted(list(set(shanties)))\n",
    "n_chars = len(chars_list)"
   ]
  },
  {
   "cell_type": "code",
   "execution_count": 6,
   "metadata": {
    "colab": {},
    "colab_type": "code",
    "id": "-tUbc-2WALn1"
   },
   "outputs": [],
   "source": [
    "# Creating a dictionary to map each unique character to a number\n",
    "chars_to_ints = dict((c, i) for i, c in enumerate(chars_list))\n",
    "\n",
    "# Creating a dictionary to return numbers to characters\n",
    "ints_to_chars = dict((i, c) for  i, c in enumerate(chars_list))"
   ]
  },
  {
   "cell_type": "markdown",
   "metadata": {},
   "source": [
    "## Lyrics Writing\n",
    "Using a function outputing the input string and generated lyrics by epoch to compare the different model sequences"
   ]
  },
  {
   "cell_type": "code",
   "execution_count": 7,
   "metadata": {},
   "outputs": [],
   "source": [
    "def lyrics_writer(seed_string, models_dict, model_char_len ,n_predictions):\n",
    "    # Converting seed string into a list of numbers\n",
    "    for epoch, model in models_dict.items():\n",
    "        # Converting seed string into a list of numbers\n",
    "        # Truncating input string by the character sequence length of the model inputed\n",
    "        seq_pattern = [chars_to_ints[char] for char in seed_string[:model_char_len].lower()]\n",
    "        # Creating empty string to append results too\n",
    "        output_string = ''\n",
    "        # Each iteration in loop will predict one character\n",
    "        for i in range(n_predictions):\n",
    "            # Creating x data to predict off. Reshaping and normalizing input list\n",
    "            x = np.reshape(seq_pattern, (1, len(seq_pattern), 1))\n",
    "            x = x / float(n_chars)\n",
    "            # Creating predictions\n",
    "            preds = model.predict(x, verbose=0)\n",
    "            # Ordering predictions by most likely character\n",
    "            index = np.argmax(preds)\n",
    "            # Converting result to character\n",
    "            result = ints_to_chars[index]\n",
    "            # Reading in current pattern\n",
    "            seq_in = [ints_to_chars[value] for value in seq_pattern]\n",
    "            # Adding result to input list\n",
    "            seq_pattern.append(index)\n",
    "            # Shifting pattern over one index for next pass through loop\n",
    "            seq_pattern = seq_pattern[1:len(seq_pattern)]\n",
    "            # Appending the result seed_string to print as final output\n",
    "            output_string = output_string + result\n",
    "            \n",
    "        print()\n",
    "        print(f'Epoch {epoch}:')\n",
    "        print(f'{seed_string[:model_char_len]}{output_string}')\n",
    "        print()"
   ]
  },
  {
   "cell_type": "code",
   "execution_count": 8,
   "metadata": {},
   "outputs": [
    {
     "data": {
      "text/plain": [
       "105"
      ]
     },
     "execution_count": 8,
     "metadata": {},
     "output_type": "execute_result"
    }
   ],
   "source": [
    "input_string = 'Washington DC is the best campus of General Assembly by far and away no other campus can possibly compare'\n",
    "len(input_string)"
   ]
  },
  {
   "cell_type": "markdown",
   "metadata": {},
   "source": [
    "## 25 Character Sequence Model"
   ]
  },
  {
   "cell_type": "code",
   "execution_count": 9,
   "metadata": {},
   "outputs": [
    {
     "name": "stdout",
     "output_type": "stream",
     "text": [
      "\n",
      "Epoch 1:\n",
      "Washington DC is the best and she sail and she sail and she sail and she sail and she sail and she sail and she sail and she \n",
      "\n",
      "\n",
      "Epoch 2:\n",
      "Washington DC is the best she shan she shan she shan she shan she shan she shan she shan she shan she shan she shan she shan \n",
      "\n",
      "\n",
      "Epoch 3:\n",
      "Washington DC is the best of the sailor lad the shall be the shanty and the shall be the shanty and the shall be the shanty a\n",
      "\n",
      "\n",
      "Epoch 4:\n",
      "Washington DC is the best and the sailor s the sailor sound the sailor s the sailor sound the sailor s the sailor sound the s\n",
      "\n",
      "\n",
      "Epoch 5:\n",
      "Washington DC is the best and the sailor love the sailor love the sailor love the sailor love the sailor love the sailor love\n",
      "\n",
      "\n",
      "Epoch 6:\n",
      "Washington DC is the best of the sea and the soack let the boat and the soack let the boat and the soack let the boat and the\n",
      "\n",
      "\n",
      "Epoch 7:\n",
      "Washington DC is the best and the sailor loves the boat and the sailor loves the boat and the sailor loves the boat and the s\n",
      "\n",
      "\n",
      "Epoch 8:\n",
      "Washington DC is the best of the sailor lad he was a sailor lad i was a sailor lad i was a sailor lad i was a sailor lad i wa\n",
      "\n",
      "\n",
      "Epoch 9:\n",
      "Washington DC is the best of the sailor loves the waver and the soun of the sailor loves the waver and the soun of the sailor\n",
      "\n",
      "\n",
      "Epoch 10:\n",
      "Washington DC is the best of the sea and the soart of the sea and the soart of the sea and the soart of the sea and the soart\n",
      "\n",
      "\n",
      "Epoch 11:\n",
      "Washington DC is the best of the sailor loves the sailor loves the sailor loves the sailor loves the sailor loves the sailor \n",
      "\n",
      "\n",
      "Epoch 12:\n",
      "Washington DC is the best of the sea and the sea and the sea and the sea and the sea and the sea and the sea and the sea and \n",
      "\n",
      "\n",
      "Epoch 13:\n",
      "Washington DC is the best the water and the water and the water and the water and the water and the water and the water and t\n",
      "\n",
      "\n",
      "Epoch 14:\n",
      "Washington DC is the best of the sailor lad he was a sailor s gond the sailor lad he was a sailor s gond the sailor lad he wa\n",
      "\n",
      "\n",
      "Epoch 15:\n",
      "Washington DC is the best the boat and the sailor loves the bottom of the sea and the sailor loves the bottom of the sea and \n",
      "\n",
      "\n",
      "Epoch 16:\n",
      "Washington DC is the best of the sea and the sailor loves the bottom of the sea and the sailor loves the bottom of the sea an\n",
      "\n",
      "\n",
      "Epoch 17:\n",
      "Washington DC is the best of the sea and the sea and the sea and the sea and the sea and the sea and the sea and the sea and \n",
      "\n",
      "\n",
      "Epoch 18:\n",
      "Washington DC is the best of the sea she s the boat and the shore the ship the wind was the shanty boys the wind was a sailor\n",
      "\n",
      "\n",
      "Epoch 19:\n",
      "Washington DC is the best of the sea and the ship the sailor loves the sailor loves the sailor loves the sailor loves the sai\n",
      "\n",
      "\n",
      "Epoch 20:\n",
      "Washington DC is the best of the sea and the sea and the sea and the sea and the sea and the sea and the sea and the sea and \n",
      "\n"
     ]
    }
   ],
   "source": [
    "lyrics_writer(input_string, models_25, 25, 100)"
   ]
  },
  {
   "cell_type": "markdown",
   "metadata": {},
   "source": [
    "## 50 Character Sequence Model"
   ]
  },
  {
   "cell_type": "code",
   "execution_count": 10,
   "metadata": {},
   "outputs": [
    {
     "name": "stdout",
     "output_type": "stream",
     "text": [
      "\n",
      "Epoch 1:\n",
      "Washington DC is the best campus of General Assembn the sail the sailor sail the sailor sail the sailor sail the sailor sail the sailor sail the sailo\n",
      "\n",
      "\n",
      "Epoch 2:\n",
      "Washington DC is the best campus of General Assembe the sailor s bootier she s a sailor s bootier the sailor s bootier she s a sailor s bootier the sa\n",
      "\n",
      "\n",
      "Epoch 3:\n",
      "Washington DC is the best campus of General Assembe the sailor s io the sailor s io the sailor s io the sailor s io the sailor s io the sailor s io th\n",
      "\n",
      "\n",
      "Epoch 4:\n",
      "Washington DC is the best campus of General Assembe the ship was a sailor s a sailor s a sailor s a sailor s a sailor s a sailor s a sailor s a sailor\n",
      "\n",
      "\n",
      "Epoch 5:\n",
      "Washington DC is the best campus of General Assembe the sailor love we ll roar and the sailor love we ll roar and the sailor love we ll roar and the s\n",
      "\n",
      "\n",
      "Epoch 6:\n",
      "Washington DC is the best campus of General Assemb the sailor s land the sailor love the sailor s land the sailor love the sailor s land the sailor lo\n",
      "\n",
      "\n",
      "Epoch 7:\n",
      "Washington DC is the best campus of General Assembe the sea and the whnds and she s a lan o come all you bold sea bott and she s in the sea and the wh\n",
      "\n",
      "\n",
      "Epoch 8:\n",
      "Washington DC is the best campus of General Assembe the sailor lad i do adore and she said the sailor lad i do adore and she said the sailor lad i do \n",
      "\n",
      "\n",
      "Epoch 9:\n",
      "Washington DC is the best campus of General Assembe on the sea and the sailor s land and the sailor s love the sea and the sailor s land and the sailo\n",
      "\n",
      "\n",
      "Epoch 10:\n",
      "Washington DC is the best campus of General Assember the sea and the sea and the sea and the sea and the sea and the sea and the sea and the sea and t\n",
      "\n",
      "\n",
      "Epoch 11:\n",
      "Washington DC is the best campus of General Assember the sailor lad and the sailor lad and the sea so sail the sea so sail the sea so sail the sea so \n",
      "\n",
      "\n",
      "Epoch 12:\n",
      "Washington DC is the best campus of General Assember the sailor lad and the sailor lad and the sailor lad and the sailor lad and the sailor lad and th\n",
      "\n",
      "\n",
      "Epoch 13:\n",
      "Washington DC is the best campus of General Assember and the sailor loves the sailor loves the sailor loves the sailor loves the sailor loves the sail\n",
      "\n",
      "\n",
      "Epoch 14:\n",
      "Washington DC is the best campus of General Assember the sailor loves the maiden oh the boats of the boats and she sailed away the sailor loves the ma\n",
      "\n",
      "\n",
      "Epoch 15:\n",
      "Washington DC is the best campus of General Assember and the sea and the sailors when i was a sailor s land we ll sant and we ll roar like true you an\n",
      "\n",
      "\n",
      "Epoch 16:\n",
      "Washington DC is the best campus of General Assember the sailor loves the sailor loves the bottle oh the sailor loves the bottle oh the sailor loves t\n",
      "\n",
      "\n",
      "Epoch 17:\n",
      "Washington DC is the best campus of General Assember and the storm and the storm and the storm and the storm and the storm and the storm and the storm\n",
      "\n",
      "\n",
      "Epoch 18:\n",
      "Washington DC is the best campus of General Assember the sailor s streat and street and the sea and the sea and the sea and the sea and the sea and th\n",
      "\n",
      "\n",
      "Epoch 19:\n",
      "Washington DC is the best campus of General Assember and the ship s a cantain she s a health to the ship s a cantain she s a health to the ship s a ca\n",
      "\n",
      "\n",
      "Epoch 20:\n",
      "Washington DC is the best campus of General Assember the sailor loves the sea and the ship the sailor loves the sea and the ship the sailor loves the \n",
      "\n"
     ]
    }
   ],
   "source": [
    "lyrics_writer(input_string, models_50, 50, 100)"
   ]
  },
  {
   "cell_type": "markdown",
   "metadata": {},
   "source": [
    "## 100 Character Sequence Model"
   ]
  },
  {
   "cell_type": "code",
   "execution_count": 11,
   "metadata": {},
   "outputs": [
    {
     "name": "stdout",
     "output_type": "stream",
     "text": [
      "\n",
      "Epoch 1:\n",
      "Washington DC is the best campus of General Assembly by far and away no other campus can possibly coow the sailor she sailor she sailor she sailor she sailor she sailor she sailor she sailor she sailo\n",
      "\n",
      "\n",
      "Epoch 2:\n",
      "Washington DC is the best campus of General Assembly by far and away no other campus can possibly come and the ship she sailor s bous the brave and the ship was a ship she sailor say and the ship was \n",
      "\n",
      "\n",
      "Epoch 3:\n",
      "Washington DC is the best campus of General Assembly by far and away no other campus can possibly come and the sailor s the sailor s the sailor s the sailor s the sailor s the sailor s the sailor s th\n",
      "\n",
      "\n",
      "Epoch 4:\n",
      "Washington DC is the best campus of General Assembly by far and away no other campus can possibly come all you re the sailor lad a ship so sea the sailor lad a ship so sea the sailor lad a ship so sea\n",
      "\n",
      "\n",
      "Epoch 5:\n",
      "Washington DC is the best campus of General Assembly by far and away no other campus can possibly come and the sea and the sailor lad so sea the sailor lad so sea the sailor lad so sea the sailor lad \n",
      "\n",
      "\n",
      "Epoch 6:\n",
      "Washington DC is the best campus of General Assembly by far and away no other campus can possibly come and the sea and the sailor loves the sailor loves the sailor loves the sailor loves the sailor lo\n",
      "\n",
      "\n",
      "Epoch 7:\n",
      "Washington DC is the best campus of General Assembly by far and away no other campus can possibly come and soow we ll sant and we ll roar like true love the warch of the sailor loves the water boys an\n",
      "\n",
      "\n",
      "Epoch 8:\n",
      "Washington DC is the best campus of General Assembly by far and away no other campus can possibly come and see the sea the sailor lad in the soaditional maddie he said the sailor love the sailor love \n",
      "\n",
      "\n",
      "Epoch 9:\n",
      "Washington DC is the best campus of General Assembly by far and away no other campus can possibly come and the wind blows and the wind blows we re all together boys blow ye winds blow jollyy blow ye w\n",
      "\n",
      "\n",
      "Epoch 10:\n",
      "Washington DC is the best campus of General Assembly by far and away no other campus can possibly come and sent the sailor lad the sailor lad the sailor lad the sailor lad the sailor lad the sailor la\n",
      "\n",
      "\n",
      "Epoch 11:\n",
      "Washington DC is the best campus of General Assembly by far and away no other campus can possibly come and the sailor lad a sailor s some the captain s a sailor s a sailor boys the sailor lad a sailor\n",
      "\n",
      "\n",
      "Epoch 12:\n",
      "Washington DC is the best campus of General Assembly by far and away no other campus can possibly come and see the sailor loves the bottle of the sea and the sailor loves the bottle oh the bottle oh t\n",
      "\n",
      "\n",
      "Epoch 13:\n",
      "Washington DC is the best campus of General Assembly by far and away no other campus can possibly come and the sea and the sea and the sea and the sea and the sea and the sea and the sea and the sailo\n",
      "\n",
      "\n",
      "Epoch 15:\n",
      "Washington DC is the best campus of General Assembly by far and away no other campus can possibly come and see the ship s a bully boys and the ship s a but i ll be so the ship s a but the stormy wind \n",
      "\n"
     ]
    }
   ],
   "source": [
    "lyrics_writer(input_string, models_100, 100, 100)"
   ]
  },
  {
   "cell_type": "markdown",
   "metadata": {},
   "source": [
    "---\n",
    "## 50 Character Sequence Analysis\n",
    "We can see several noticeable things about the lyrics written:\n",
    "\n",
    "**Epoch 1**\n",
    "- Even from the first epoch we see fully spelled words\n",
    "- The first character result for \"Assemb\" is \"n\". This doesn't make much grammatical sense.\n",
    "\n",
    "**Epochs 2 - 4**\n",
    "- The model begins to come up with novel words such as \"bootier\"\n",
    "- Has replaced the \"n\" on \"Assemb\" with an \"e\".\n",
    "\n",
    "**Epochs 5 - 9**\n",
    "- Epoch 6 drops the \"e\" from \"Assemb\" but it returns with the later epochs\n",
    "- We see a bit more variety in terms of words but \"sailor\" is still very prevalent\n",
    "\n",
    "**Epochs 10 - 19**\n",
    "- \"Assembe\" is now \"Assember\". While still a nonsense word it makes some lyrical sense.\n",
    "- While the pattern of words is still generally short we see a bit more variety in word choice by epoch\n",
    "\n",
    "**Epoch 20**\n",
    "- The final epoch has less variety but seems to make the most sense as a single lyrics\n",
    " - \"the sailor loves the sea and the ship\"\n",
    "\n",
    "Over all the model created what could be interpreted as lyrics for a line for a song.\n",
    "\n",
    "## Next Steps\n",
    "\n",
    "It seems the model may have been over fit as every output was a repetition of a few words.\n",
    "\n",
    "To minimize repetition we will try to following\n",
    "- Run the same model but with different sequence and step lengths\n",
    "- Run a less performant model with variable sequence and step lengths\n",
    "- Process the corpus differently:\n",
    " - Analyze the document by words rather then characters\n",
    " - One hot encoding\n",
    "- Research alternate ways bring in variability into text prediction"
   ]
  }
 ],
 "metadata": {
  "kernelspec": {
   "display_name": "Python 3",
   "language": "python",
   "name": "python3"
  },
  "language_info": {
   "codemirror_mode": {
    "name": "ipython",
    "version": 3
   },
   "file_extension": ".py",
   "mimetype": "text/x-python",
   "name": "python",
   "nbconvert_exporter": "python",
   "pygments_lexer": "ipython3",
   "version": "3.7.7"
  }
 },
 "nbformat": 4,
 "nbformat_minor": 4
}
