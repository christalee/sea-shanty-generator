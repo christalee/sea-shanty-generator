{
 "cells": [
  {
   "cell_type": "code",
   "execution_count": 4,
   "metadata": {
    "colab": {
     "base_uri": "https://localhost:8080/",
     "height": 80
    },
    "colab_type": "code",
    "executionInfo": {
     "elapsed": 1971,
     "status": "ok",
     "timestamp": 1583786158091,
     "user": {
      "displayName": "Jacob Ellena",
      "photoUrl": "https://lh3.googleusercontent.com/a-/AOh14GipDwLM6i3xdI-QK1rxlUihbf6PtSR2caa4RHyCvKA=s64",
      "userId": "05902103246554275059"
     },
     "user_tz": 240
    },
    "id": "DFqHhMm-ALnn",
    "outputId": "591ecb7b-8218-45fd-f547-6a354ccf30a6"
   },
   "outputs": [
    {
     "name": "stderr",
     "output_type": "stream",
     "text": [
      "Using TensorFlow backend.\n"
     ]
    }
   ],
   "source": [
    "# Imports\n",
    "import numpy as np\n",
    "\n",
    "from keras.models import Sequential\n",
    "from keras.layers import Dense\n",
    "from keras.layers import Dropout\n",
    "from keras.layers import LSTM\n",
    "from keras.callbacks import ModelCheckpoint\n",
    "from keras.utils import np_utils"
   ]
  },
  {
   "cell_type": "code",
   "execution_count": 6,
   "metadata": {
    "colab": {
     "base_uri": "https://localhost:8080/",
     "height": 164
    },
    "colab_type": "code",
    "executionInfo": {
     "elapsed": 2633,
     "status": "error",
     "timestamp": 1583786167577,
     "user": {
      "displayName": "Jacob Ellena",
      "photoUrl": "https://lh3.googleusercontent.com/a-/AOh14GipDwLM6i3xdI-QK1rxlUihbf6PtSR2caa4RHyCvKA=s64",
      "userId": "05902103246554275059"
     },
     "user_tz": 240
    },
    "id": "15lZkzAJALns",
    "outputId": "86544020-22b8-473c-ce5c-4d48a4305c5d"
   },
   "outputs": [],
   "source": [
    "# Loading in Shanties lyrics corpus\n",
    "shanties = open('../../../data/shanties_all.txt', encoding='utf-8').read()"
   ]
  },
  {
   "cell_type": "code",
   "execution_count": 7,
   "metadata": {
    "colab": {},
    "colab_type": "code",
    "id": "qDPD3_cSALnv"
   },
   "outputs": [],
   "source": [
    "# Convering characters to integers"
   ]
  },
  {
   "cell_type": "code",
   "execution_count": 8,
   "metadata": {
    "colab": {},
    "colab_type": "code",
    "id": "0rEiTIa6ALny"
   },
   "outputs": [],
   "source": [
    "# Creating a list of all unique characters\n",
    "chars_list = sorted(list(set(shanties)))"
   ]
  },
  {
   "cell_type": "code",
   "execution_count": 9,
   "metadata": {
    "colab": {},
    "colab_type": "code",
    "id": "-tUbc-2WALn1"
   },
   "outputs": [],
   "source": [
    "# Creating a dictionary to map each unique character to a number\n",
    "chars_to_ints = dict((c, i) for i, c in enumerate(chars_list))"
   ]
  },
  {
   "cell_type": "code",
   "execution_count": 6,
   "metadata": {
    "colab": {},
    "colab_type": "code",
    "id": "rYaoX1N8ALn3",
    "outputId": "a1326695-698e-4c44-b284-99c13663ebd2"
   },
   "outputs": [
    {
     "name": "stdout",
     "output_type": "stream",
     "text": [
      "Total length of corpus  :  698604\n",
      "Total unique characters :  27\n"
     ]
    }
   ],
   "source": [
    "# Checking length of corpus and unique characters\n",
    "len_shanties = len(shanties)\n",
    "n_chars = len(chars_list)\n",
    "\n",
    "print(f'Total length of corpus  :  {len_shanties}')\n",
    "print(f'Total unique characters :  {n_chars}')"
   ]
  },
  {
   "cell_type": "code",
   "execution_count": null,
   "metadata": {
    "colab": {},
    "colab_type": "code",
    "id": "juRTFNlQALn7"
   },
   "outputs": [],
   "source": [
    "# Creating a list of patterns for the entire corpus\n",
    "seq_len = 50\n",
    "X_data = []\n",
    "y_data = []\n",
    "for i in range(0, len_shanties - seq_len, 1):\n",
    "    seq_in = shanties[i:i + seq_len]\n",
    "    seq_out = shanties[i + seq_len]\n",
    "    X_data.append([chars_to_ints[char] for char in seq_in])\n",
    "    y_data.append(chars_to_ints[seq_out])\n",
    "\n",
    "total_patterns = len(X_data)\n",
    "print(f'Total number of {seq_len} character lenght patters: {total_patterns}')"
   ]
  },
  {
   "cell_type": "code",
   "execution_count": null,
   "metadata": {
    "colab": {},
    "colab_type": "code",
    "id": "Axp96CLQALn-"
   },
   "outputs": [],
   "source": [
    "# Reshaping Data for use in LSTM networks\n",
    "X = np.reshape(X_data, (total_patterns, seq_len, 1))\n",
    "\n",
    "# Normalzing X data\n",
    "X = X / float(n_chars)\n",
    "\n",
    "# One hot encode to the output variable\n",
    "y = np_utils.to_categorical(y_data)"
   ]
  },
  {
   "cell_type": "code",
   "execution_count": null,
   "metadata": {},
   "outputs": [],
   "source": [
    "# Creating a checkpoint to find best weights\n",
    "checkpoint_name = './model-weights/weights-improvement-{epoch:02d}-{loss:.4f}.hdf5'\n",
    "checkpoint = ModelCheckpoint(checkpoint_name, monitor='loss', verbose=1, save_best_only=True, mode='min')\n",
    "callbacks_list = [checkpoint]"
   ]
  },
  {
   "cell_type": "code",
   "execution_count": null,
   "metadata": {
    "colab": {},
    "colab_type": "code",
    "id": "vck9_39tALoA"
   },
   "outputs": [],
   "source": [
    "# Defining LSTM model\n",
    "model = Sequential()\n",
    "\n",
    "# Adding layers\n",
    "model = Sequential()\n",
    "model.add(LSTM(256, input_shape=(X.shape[1], X.shape[2]), return_sequences=True))\n",
    "model.add(Dropout(0.2))\n",
    "model.add(LSTM(256))\n",
    "model.add(Dropout(0.2))\n",
    "model.add(Dense(y.shape[1], activation='softmax'))\n",
    "\n",
    "# Compiling model\n",
    "model.compile(loss='categorical_crossentropy', optimizer='adam')"
   ]
  },
  {
   "cell_type": "code",
   "execution_count": null,
   "metadata": {},
   "outputs": [],
   "source": [
    "# Fit model\n",
    "model.fit(X, y, epochs=20, batch_size=128, callbacks=callbacks_list)"
   ]
  },
  {
   "cell_type": "code",
   "execution_count": null,
   "metadata": {},
   "outputs": [],
   "source": [
    "# Saving Model\n",
    "model.save('shanty_writer.h5')"
   ]
  }
 ],
 "metadata": {
  "colab": {
   "name": "mode-test.ipynb",
   "provenance": []
  },
  "kernelspec": {
   "display_name": "Python [conda env:dsi] *",
   "language": "python",
   "name": "conda-env-dsi-py"
  },
  "language_info": {
   "codemirror_mode": {
    "name": "ipython",
    "version": 3
   },
   "file_extension": ".py",
   "mimetype": "text/x-python",
   "name": "python",
   "nbconvert_exporter": "python",
   "pygments_lexer": "ipython3",
   "version": "3.7.6"
  }
 },
 "nbformat": 4,
 "nbformat_minor": 4
}
